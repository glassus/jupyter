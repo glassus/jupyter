{
 "cells": [
  {
   "cell_type": "markdown",
   "metadata": {},
   "source": [
    "# Analyse de la liste des passagers du Titanic\n",
    "le fichier `titanic.csv` contient des renseignements sur plus d'un millier de passagers du Titanic (rappel : bateau de croisière qui a coulé en 1912). \n",
    "Votre travail est de répondre, grâce à des instructions Python qui doivent apparaître, aux questions suivantes. \n",
    "Vous avez le droit de vous aider du fichier https://github.com/glassus/nsi/blob/master/Premiere/Theme06_Traitement_de_donnees/01_Manipulation_csv.ipynb\n"
   ]
  },
  {
   "cell_type": "markdown",
   "metadata": {},
   "source": [
    "### 1. Créez une liste contenant un dictionnaire par passager\n",
    "Votre liste doit d'appeler `passagers` et doit commencer ainsi : "
   ]
  },
  {
   "cell_type": "raw",
   "metadata": {},
   "source": [
    "[{'Nom': 'ALLEN  Miss. Elisabeth Walton',\n",
    "  'sexe': 'female',\n",
    "  'age': '29',\n",
    "  'embarquement': 'Southampton',\n",
    "  'classe': '1',\n",
    "  'survivant': '1'},\n",
    " {'Nom': 'ALLISON  Master. Hudson Trevor',\n",
    "  'sexe': 'male',\n",
    "  'age': '1',\n",
    "  'embarquement': 'Southampton',\n",
    "  'classe': '1',\n",
    "  'survivant': '1'},"
   ]
  },
  {
   "cell_type": "code",
   "execution_count": null,
   "metadata": {},
   "outputs": [],
   "source": []
  },
  {
   "cell_type": "markdown",
   "metadata": {},
   "source": [
    "### 2. Donner le nombre de passagers contenus dans ce fichier"
   ]
  },
  {
   "cell_type": "code",
   "execution_count": null,
   "metadata": {},
   "outputs": [],
   "source": []
  },
  {
   "cell_type": "markdown",
   "metadata": {},
   "source": [
    "### 3. Donner le nombre de survivants\n",
    "Les survivants ont une valeur de la clé \"survivant\" égale à 1."
   ]
  },
  {
   "cell_type": "code",
   "execution_count": null,
   "metadata": {},
   "outputs": [],
   "source": []
  },
  {
   "cell_type": "markdown",
   "metadata": {},
   "source": [
    "### 4. Donner l'âge de la passagère FORTUNE  Miss. Ethel Flora\n"
   ]
  },
  {
   "cell_type": "code",
   "execution_count": null,
   "metadata": {},
   "outputs": [],
   "source": []
  },
  {
   "cell_type": "markdown",
   "metadata": {},
   "source": [
    "### 5. Créer une fonction de calcul de taux de survie\n"
   ]
  },
  {
   "cell_type": "code",
   "execution_count": null,
   "metadata": {},
   "outputs": [],
   "source": [
    "def survie(classe):\n",
    "    ''' \n",
    "    pre ->  classe (de type int) : un nombre égal à 1,2 ou 3, spécifiant la classe étudiée\n",
    "    post -> un nombre réel égal au ratio survivants/total pour la classe étudiée\n",
    "    \n",
    "    les résultats doivent être : \n",
    "    survie(1) = 0.619...\n",
    "    survie(2) = 0.429...\n",
    "    '''\n",
    "    \n",
    "    "
   ]
  },
  {
   "cell_type": "code",
   "execution_count": null,
   "metadata": {},
   "outputs": [],
   "source": []
  }
 ],
 "metadata": {
  "kernelspec": {
   "display_name": "Python 3",
   "language": "python",
   "name": "python3"
  },
  "language_info": {
   "codemirror_mode": {
    "name": "ipython",
    "version": 3
   },
   "file_extension": ".py",
   "mimetype": "text/x-python",
   "name": "python",
   "nbconvert_exporter": "python",
   "pygments_lexer": "ipython3",
   "version": "3.8.5"
  },
  "toc": {
   "base_numbering": 1,
   "nav_menu": {},
   "number_sections": false,
   "sideBar": true,
   "skip_h1_title": false,
   "title_cell": "Table of Contents",
   "title_sidebar": "Contents",
   "toc_cell": false,
   "toc_position": {},
   "toc_section_display": true,
   "toc_window_display": true
  }
 },
 "nbformat": 4,
 "nbformat_minor": 2
}
